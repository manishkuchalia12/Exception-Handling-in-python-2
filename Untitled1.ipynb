{
 "cells": [
  {
   "cell_type": "markdown",
   "id": "dc9b06b8-0739-429e-9730-cdda9dda76d3",
   "metadata": {},
   "source": [
    "Q1. Explain why we have to use the Exception class while creating a Custom Exception.\n",
    "\n",
    "Ans:- The  \"Exception\" class is the base class for all built-in exceptions. When you create a custom exception, \n",
    "it is recommended to inherit from the Exception class or one of its subclasses."
   ]
  },
  {
   "cell_type": "markdown",
   "id": "364f175d-7ef0-4325-998f-0e71153674d4",
   "metadata": {},
   "source": [
    "Q2. Write a python program to print Python Exception Hierarchy."
   ]
  },
  {
   "cell_type": "code",
   "execution_count": 1,
   "id": "ef588420-aa2d-4e4e-838d-63cbe2f610b3",
   "metadata": {},
   "outputs": [
    {
     "name": "stdout",
     "output_type": "stream",
     "text": [
      "BaseException\n",
      "    object\n"
     ]
    }
   ],
   "source": [
    "def print_exception_hierarchy(exception_class, indent=0):\n",
    "    \n",
    "    print(\" \" * indent + str(exception_class.__name__))\n",
    "\n",
    "    for base_class in exception_class.__bases__:\n",
    "        print_exception_hierarchy(base_class, indent + 4)\n",
    "print_exception_hierarchy(BaseException)\n"
   ]
  },
  {
   "cell_type": "markdown",
   "id": "e2753985-abb5-4fc3-ba93-d9b859e88aec",
   "metadata": {},
   "source": [
    "Q3. What errors are defined in the ArithmeticError class? Explain any two with an example."
   ]
  },
  {
   "cell_type": "markdown",
   "id": "25e46d59-b9c0-4460-a537-39328a8c3fea",
   "metadata": {},
   "source": [
    "The ArithmeticError class in Python represents errors that occur during arithmetic operations.\n",
    "Two specific errors within the ArithmeticError class are ZeroDivisionError and OverflowError"
   ]
  },
  {
   "cell_type": "code",
   "execution_count": 2,
   "id": "f2a1aebe-9ba7-4508-8081-f694facd1917",
   "metadata": {},
   "outputs": [
    {
     "name": "stdout",
     "output_type": "stream",
     "text": [
      "division by zero\n"
     ]
    }
   ],
   "source": [
    "#EX\n",
    "try:\n",
    "    result = 5 / 0\n",
    "except ZeroDivisionError as e:\n",
    "    print(e)\n"
   ]
  },
  {
   "cell_type": "code",
   "execution_count": 3,
   "id": "6d20002f-42ee-4b5f-add4-56fd530928cb",
   "metadata": {},
   "outputs": [],
   "source": [
    "import sys\n",
    "\n",
    "try:\n",
    "    result = sys.maxsize + 1\n",
    "except OverflowError as e:\n",
    "    print(f\"Error: {e}\")\n"
   ]
  },
  {
   "cell_type": "markdown",
   "id": "b501339c-6f01-4727-8965-9c135e6df59c",
   "metadata": {},
   "source": [
    "Q4. Why LookupError class is used? Explain with an example KeyError and IndexError.\n",
    " Ans:-The LookupError class in Python is a base class for exceptions that occur when a key or index used to look up a value is invalid or not found. Two common subclasses of LookupError are KeyError and IndexError."
   ]
  },
  {
   "cell_type": "code",
   "execution_count": 4,
   "id": "bdb794a5-a37c-4078-a25c-7f878a0d67e9",
   "metadata": {},
   "outputs": [
    {
     "name": "stdout",
     "output_type": "stream",
     "text": [
      "Error: 'c'\n"
     ]
    }
   ],
   "source": [
    "# KEYERROR\n",
    "\n",
    "my_dict = {'a': 1, 'b': 2}\n",
    "\n",
    "try:\n",
    "    value = my_dict['c']\n",
    "except KeyError as e:\n",
    "    print(f\"Error: {e}\")\n"
   ]
  },
  {
   "cell_type": "code",
   "execution_count": 5,
   "id": "03ba860e-75ca-4b36-b75a-2d7c16599328",
   "metadata": {},
   "outputs": [
    {
     "name": "stdout",
     "output_type": "stream",
     "text": [
      "Error: list index out of range\n"
     ]
    }
   ],
   "source": [
    "#INDEX ERROE\n",
    "my_list = [1, 2, 3]\n",
    "\n",
    "try:\n",
    "    value = my_list[5]\n",
    "except IndexError as e:\n",
    "    print(f\"Error: {e}\")\n"
   ]
  },
  {
   "cell_type": "markdown",
   "id": "6a6be4e9-5c16-49eb-baca-03e8346b4dcc",
   "metadata": {},
   "source": [
    "Q5. Explain ImportError. What is ModuleNotFoundError?>>>>>>>>>>>>>>>>>\n",
    "The ImportError class in Python is a base class for exceptions raised when an import statement fails to locate and import a module. \n",
    "ModuleNotFoundError:\r\n",
    "ModuleNotFoundError is a subclass of ImportError introduced in Python 3.6. It specifically indicates that the requested module cannot be found.hon\r\n"
   ]
  },
  {
   "cell_type": "markdown",
   "id": "c8bea7b9-7201-4d1a-8b52-43ed46e51da6",
   "metadata": {},
   "source": [
    "Q6. List down some best practices for exception handling in python."
   ]
  }
 ],
 "metadata": {
  "kernelspec": {
   "display_name": "Python 3 (ipykernel)",
   "language": "python",
   "name": "python3"
  },
  "language_info": {
   "codemirror_mode": {
    "name": "ipython",
    "version": 3
   },
   "file_extension": ".py",
   "mimetype": "text/x-python",
   "name": "python",
   "nbconvert_exporter": "python",
   "pygments_lexer": "ipython3",
   "version": "3.12.0"
  }
 },
 "nbformat": 4,
 "nbformat_minor": 5
}
